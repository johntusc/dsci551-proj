{
 "cells": [
  {
   "cell_type": "markdown",
   "id": "e291acc6",
   "metadata": {},
   "source": [
    "## SQL Class Testing"
   ]
  },
  {
   "cell_type": "code",
   "execution_count": 1,
   "id": "6c141114",
   "metadata": {},
   "outputs": [],
   "source": [
    "from sql import SQL\n",
    "import pandas as pd\n",
    "import re"
   ]
  },
  {
   "cell_type": "markdown",
   "id": "7c0d05a1",
   "metadata": {},
   "source": [
    "### Data cleaning "
   ]
  },
  {
   "cell_type": "code",
   "execution_count": 2,
   "id": "b91a137f",
   "metadata": {},
   "outputs": [],
   "source": [
    "def extract_number(s):\n",
    "    match = re.search(r\"\\d+\\.?\\d*\", s) \n",
    "    return round(float(match.group()) / 100, 4)\n",
    "\n",
    "# Clean locations.csv\n",
    "df = pd.read_csv('data/locations.csv')[['name', 'longitude', 'latitude']].iloc[2:].reset_index(drop=True)\n",
    "df.to_csv('data/locations.csv', index=False)\n",
    "\n",
    "# Clean countries.csv\n",
    "try:\n",
    "    df = pd.read_csv('data/countries.csv').rename(columns={'Country or Area':'country', \n",
    "                                                        'Internet Users':'users', \n",
    "                                                        'Population':'population', \n",
    "                                                        'Rank':'rank',\n",
    "                                                        'Percentage':'percentage'})[['country', 'users', 'population', 'rank', 'percentage']]\n",
    "    df['users'] = df['users'].str.replace(',', '').astype(int)\n",
    "    df['population'] = df['population'].str.replace(',', '').astype(int)\n",
    "    df['percentage'] = df['percentage'].apply(extract_number)\n",
    "    df.to_csv('data/countries.csv', index=False)\n",
    "except:\n",
    "    df = pd.read_csv('data/countries.csv')\n",
    "    df['percentage'] = df['percentage'].round(4)\n",
    "    df.to_csv('data/countries.csv', index=False)"
   ]
  },
  {
   "cell_type": "markdown",
   "id": "c5882606",
   "metadata": {},
   "source": [
    "### Testing"
   ]
  },
  {
   "cell_type": "code",
   "execution_count": 3,
   "id": "8a1b4401",
   "metadata": {},
   "outputs": [],
   "source": [
    "# add_table\n",
    "database = SQL()\n",
    "database.add_table('data/countries.csv', 'countries', ',')\n",
    "database.add_table('data/locations.csv', 'locations', ',')"
   ]
  },
  {
   "cell_type": "code",
   "execution_count": null,
   "id": "726d61f2",
   "metadata": {},
   "outputs": [],
   "source": [
    "# Test: sql_from\n",
    "table1, mod_name1 = database.sql_from('FROM countries')\n",
    "table2, mod_name2 = database.sql_from('FROM locations')\n",
    "\n",
    "for col in table1.keys():\n",
    "    print(col, table1[col][:3])\n",
    "print(mod_name1)\n",
    "\n",
    "print()\n",
    "\n",
    "for col in table2.keys():\n",
    "    print(col, table2[col][:3])\n",
    "print(mod_name2)"
   ]
  },
  {
   "cell_type": "code",
   "execution_count": null,
   "id": "49dc6acb",
   "metadata": {},
   "outputs": [],
   "source": [
    "# Test: sql_join\n",
    "\n",
    "table3 = database.sql_join('JOIN locations ON countries.country = locations.name', 'countries', mod_name1)\n",
    "table4 = database.sql_join('JOIN locations l ON c.country = l.name', 'countries', 'c')\n",
    "table5 = database.sql_join('JOIN locations AS l ON countries.country = l.name', 'countries', mod_name1)\n",
    "\n",
    "for col in table3.keys():\n",
    "    print(col, table3[col][:3])\n",
    "\n",
    "print()\n",
    "\n",
    "for col in table4.keys():\n",
    "    print(col, table4[col][:3])\n",
    "\n",
    "print()\n",
    "\n",
    "for col in table5.keys():\n",
    "    print(col, table5[col][:3])"
   ]
  },
  {
   "cell_type": "code",
   "execution_count": null,
   "id": "7dad70dc",
   "metadata": {},
   "outputs": [],
   "source": []
  }
 ],
 "metadata": {
  "kernelspec": {
   "display_name": "Python 3",
   "language": "python",
   "name": "python3"
  },
  "language_info": {
   "codemirror_mode": {
    "name": "ipython",
    "version": 3
   },
   "file_extension": ".py",
   "mimetype": "text/x-python",
   "name": "python",
   "nbconvert_exporter": "python",
   "pygments_lexer": "ipython3",
   "version": "3.13.1"
  }
 },
 "nbformat": 4,
 "nbformat_minor": 5
}
