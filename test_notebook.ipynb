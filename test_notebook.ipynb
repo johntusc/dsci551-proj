{
 "cells": [
  {
   "cell_type": "markdown",
   "id": "e291acc6",
   "metadata": {},
   "source": [
    "## SQL Class Testing"
   ]
  },
  {
   "cell_type": "code",
   "execution_count": 2,
   "id": "6c141114",
   "metadata": {},
   "outputs": [],
   "source": [
    "from sql import SQL\n",
    "import pandas as pd\n",
    "import re"
   ]
  },
  {
   "cell_type": "markdown",
   "id": "7c0d05a1",
   "metadata": {},
   "source": [
    "### Data cleaning "
   ]
  },
  {
   "cell_type": "code",
   "execution_count": 3,
   "id": "b91a137f",
   "metadata": {},
   "outputs": [],
   "source": [
    "def extract_number(s):\n",
    "    match = re.search(r\"\\d+\\.?\\d*\", s) \n",
    "    return round(float(match.group()) / 100, 4)\n",
    "\n",
    "# Clean locations.csv\n",
    "df = pd.read_csv('data/locations.csv')[['name', 'longitude', 'latitude']].iloc[2:].reset_index(drop=True)\n",
    "df.to_csv('data/locations.csv', index=False)\n",
    "\n",
    "# Clean countries.csv\n",
    "try:\n",
    "    df = pd.read_csv('data/countries.csv').rename(columns={'Country or Area':'country', \n",
    "                                                        'Internet Users':'users', \n",
    "                                                        'Population':'population', \n",
    "                                                        'Rank':'rank',\n",
    "                                                        'Percentage':'percentage'})[['country', 'users', 'population', 'rank', 'percentage']]\n",
    "    df['users'] = df['users'].str.replace(',', '').astype(int)\n",
    "    df['population'] = df['population'].str.replace(',', '').astype(int)\n",
    "    df['percentage'] = df['percentage'].apply(extract_number)\n",
    "    df.to_csv('data/countries.csv', index=False)\n",
    "except:\n",
    "    df = pd.read_csv('data/countries.csv')\n",
    "    df['percentage'] = df['percentage'].round(4)\n",
    "    df.to_csv('data/countries.csv', index=False)"
   ]
  },
  {
   "cell_type": "markdown",
   "id": "c5882606",
   "metadata": {},
   "source": [
    "### Testing"
   ]
  },
  {
   "cell_type": "code",
   "execution_count": 4,
   "id": "8a1b4401",
   "metadata": {},
   "outputs": [],
   "source": [
    "# add_table\n",
    "database = SQL()\n",
    "database.add_table('data/countries.csv', 'countries', ',')\n",
    "database.add_table('data/locations.csv', 'locations', ',')"
   ]
  },
  {
   "cell_type": "code",
   "execution_count": 5,
   "id": "726d61f2",
   "metadata": {},
   "outputs": [
    {
     "name": "stdout",
     "output_type": "stream",
     "text": [
      "country ['China', 'India', 'United States']\n",
      "users ['765367947', '461347554', '244090854']\n",
      "population ['1409517397', '1339180127', '324459463']\n",
      "rank ['1', '2', '3']\n",
      "percentage ['0.543', '0.3445', '0.7523']\n",
      "countries\n",
      "\n",
      "name ['Hong Kong', 'Hungary', 'Iceland']\n",
      "longitude ['22.396428', '47.162494', '64.963051']\n",
      "latitude ['114.109497', '19.5033041', '-19.020835']\n",
      "locations\n"
     ]
    }
   ],
   "source": [
    "# Test: sql_from\n",
    "table1, table1_name, mod_name1 = database.sql_from('FROM countries')\n",
    "table2, table2_name, mod_name2 = database.sql_from('FROM locations')\n",
    "\n",
    "for col in table1.keys():\n",
    "    print(col, table1[col][:3])\n",
    "print(mod_name1)\n",
    "\n",
    "print()\n",
    "\n",
    "for col in table2.keys():\n",
    "    print(col, table2[col][:3])\n",
    "print(mod_name2)"
   ]
  },
  {
   "cell_type": "code",
   "execution_count": 6,
   "id": "49dc6acb",
   "metadata": {},
   "outputs": [
    {
     "name": "stdout",
     "output_type": "stream",
     "text": [
      "countries.country ['India', 'Japan', 'Russia']\n",
      "countries.users ['461347554', '115845120', '109446612']\n",
      "countries.population ['1339180127', '127484450', '143989754']\n",
      "countries.rank ['2', '5', '6']\n",
      "countries.percentage ['0.3445', '0.9087', '0.7601']\n",
      "locations.name ['India', 'Japan', 'Russia']\n",
      "locations.longitude ['20.593684', '36.204824', '61.52401']\n",
      "locations.latitude ['78.96288', '138.252924', '105.318756']\n",
      "\n",
      "c.country ['India', 'Japan', 'Russia']\n",
      "c.users ['461347554', '115845120', '109446612']\n",
      "c.population ['1339180127', '127484450', '143989754']\n",
      "c.rank ['2', '5', '6']\n",
      "c.percentage ['0.3445', '0.9087', '0.7601']\n",
      "l.name ['India', 'Japan', 'Russia']\n",
      "l.longitude ['20.593684', '36.204824', '61.52401']\n",
      "l.latitude ['78.96288', '138.252924', '105.318756']\n",
      "\n",
      "countries.country ['India', 'Japan', 'Russia']\n",
      "countries.users ['461347554', '115845120', '109446612']\n",
      "countries.population ['1339180127', '127484450', '143989754']\n",
      "countries.rank ['2', '5', '6']\n",
      "countries.percentage ['0.3445', '0.9087', '0.7601']\n",
      "l.name ['India', 'Japan', 'Russia']\n",
      "l.longitude ['20.593684', '36.204824', '61.52401']\n",
      "l.latitude ['78.96288', '138.252924', '105.318756']\n"
     ]
    }
   ],
   "source": [
    "# Test: sql_join\n",
    "\n",
    "table3 = database.sql_join('JOIN locations ON countries.country = locations.name', table1_name, mod_name1)\n",
    "table4 = database.sql_join('JOIN locations l ON c.country = l.name', table1_name, 'c')\n",
    "table5 = database.sql_join('JOIN locations AS l ON countries.country = l.name', table1_name, mod_name1)\n",
    "\n",
    "for col in table3.keys():\n",
    "    print(col, table3[col][:3])\n",
    "\n",
    "print()\n",
    "\n",
    "for col in table4.keys():\n",
    "    print(col, table4[col][:3])\n",
    "\n",
    "print()\n",
    "\n",
    "for col in table5.keys():\n",
    "    print(col, table5[col][:3])"
   ]
  },
  {
   "cell_type": "code",
   "execution_count": 11,
   "id": "7dad70dc",
   "metadata": {},
   "outputs": [
    {
     "name": "stdout",
     "output_type": "stream",
     "text": [
      "['c.country AS c', 'locations.name n']\n"
     ]
    }
   ],
   "source": [
    "database.sql_select('SELECT c.country AS c, locations.name n', table1)\n",
    "# database.sql_select('SELECT *', table1)"
   ]
  },
  {
   "cell_type": "code",
   "execution_count": null,
   "id": "efd8d531",
   "metadata": {},
   "outputs": [],
   "source": []
  }
 ],
 "metadata": {
  "kernelspec": {
   "display_name": "Python 3",
   "language": "python",
   "name": "python3"
  },
  "language_info": {
   "codemirror_mode": {
    "name": "ipython",
    "version": 3
   },
   "file_extension": ".py",
   "mimetype": "text/x-python",
   "name": "python",
   "nbconvert_exporter": "python",
   "pygments_lexer": "ipython3",
   "version": "3.13.1"
  }
 },
 "nbformat": 4,
 "nbformat_minor": 5
}
